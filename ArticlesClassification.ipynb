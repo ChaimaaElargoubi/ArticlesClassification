{
 "cells": [
  {
   "cell_type": "markdown",
   "id": "b36e6836",
   "metadata": {},
   "source": [
    "#                       RAPPORT PROJET MACHINE LEARNING\n",
    "                 Réalisé par: EL ARGOUBI CHAIMAA"
   ]
  },
  {
   "cell_type": "markdown",
   "id": "87980215",
   "metadata": {},
   "source": [
    "# INTRODUCTION"
   ]
  },
  {
   "cell_type": "markdown",
   "id": "5d724466",
   "metadata": {},
   "source": [
    "La classification (ou catégorisation) de textes est l’une des tâches de traitement du langage naturel (NLP : Natural Language Processing) les plus courantes. Elle consiste à associer un texte nonstructuré à une étiquette, qui correspond à une classe bien précise. Si la catégorisation de textes nécessite beaucoup d’engouement, c’est à cause de ses nombreuses applications qui vont de l’analyse de sentiments à la détection de spams en passant par la détection de langue et les systèmes de recommandation.\n",
    "Le but de ce projet est de concevoir un modèle intelligent permet de classer les articles selon leur catégorie. Pour cela, on va utiliser un dataset composé de 141 articles, ces articles sont répartis en 5 catégories : sport, économie, culture, politique et société. \n",
    "\n",
    "On utilise python et les librairies scikit-learn (fournie avec anaconda) et NLTK (Natural Language Toolkit) qu’on peut installer avec la commande conda install -c anaconda nltk sur anaconda prompt.\n"
   ]
  },
  {
   "cell_type": "markdown",
   "id": "bfa6fb0f",
   "metadata": {},
   "source": [
    "# Importer des bibliothèques"
   ]
  },
  {
   "cell_type": "markdown",
   "id": "f4b78dec",
   "metadata": {},
   "source": [
    "\n",
    "nous importons les bibliothèques Python nécessaires et le jeu de données dont nous avons besoin pour cette tâche."
   ]
  },
  {
   "cell_type": "code",
   "execution_count": 6,
   "id": "aa578fc7",
   "metadata": {},
   "outputs": [],
   "source": [
    "from sklearn.preprocessing import MultiLabelBinarizer\n",
    "from sklearn.svm import LinearSVC ,SVC\n",
    "from sklearn.model_selection import train_test_split\n",
    "from sklearn.linear_model import LogisticRegression\n",
    "from sklearn.svm import SVC, LinearSVC\n",
    "from sklearn.tree import DecisionTreeClassifier\n",
    "from sklearn.ensemble import RandomForestClassifier\n",
    "from sklearn.naive_bayes import GaussianNB,MultinomialNB,BernoulliNB\n",
    "from sklearn.metrics import *\n",
    "import seaborn as sns\n",
    "from sklearn.metrics import confusion_matrix\n",
    "import matplotlib.pyplot as plt\n",
    "import string\n",
    "import nltk\n",
    "import re"
   ]
  },
  {
   "cell_type": "markdown",
   "id": "0a78a9b6",
   "metadata": {},
   "source": [
    "# Importer le jeu de données"
   ]
  },
  {
   "cell_type": "markdown",
   "id": "a43ee13e",
   "metadata": {},
   "source": [
    "\n",
    "Il est maintenant temps de charger les données ! Puisque on a que 5 fichiers texte, nous allons les charger un par un dans un dataframe, puis en utilisant la fonction split() et l’expression régulier '-+[0-9]+-+' on va pouvoir séparer les articles de chaque fichier ,et finalement on va les concaténer dans une seule liste appelé ‘data’."
   ]
  },
  {
   "cell_type": "code",
   "execution_count": 2,
   "id": "634d3320",
   "metadata": {},
   "outputs": [
    {
     "name": "stdout",
     "output_type": "stream",
     "text": [
      "141\n"
     ]
    }
   ],
   "source": [
    "import re\n",
    "files = [\"28 articles société.txt\",\"29 articles sport.txt\",\"20 articles ecomonie.txt\", \"28 articles politique.txt\", \"36 articles culture.txt\"]\n",
    "data=[]\n",
    "for i in files:\n",
    "    with open(i, encoding=\"utf8\") as f:\n",
    "        file= f.read()\n",
    "    pattern = r'-+[0-9]+-+'\n",
    "    result= re.split(pattern,file)\n",
    "    data.extend(result)\n",
    "print(len(data))"
   ]
  },
  {
   "cell_type": "markdown",
   "id": "aac58731",
   "metadata": {},
   "source": [
    "maintenant on crèe un fichier \"labels\" qui va contenir les catégories"
   ]
  },
  {
   "cell_type": "code",
   "execution_count": 5,
   "id": "d34f58cf",
   "metadata": {},
   "outputs": [],
   "source": [
    "labels=open(\"labels.txt\",\"w\",encoding=\"utf8\")\n",
    "for i in range(1,len(data)+1):\n",
    "    if i<=28:\n",
    "        labels.write(\"société \\n\")\n",
    "    if 28<i<=57:\n",
    "        labels.write(\"sport\\n\")\n",
    "    if 57<i<=77:\n",
    "        labels.write(\"ecomonie\\n\")\n",
    "    if 77<i<=105:\n",
    "        labels.write(\"politique\\n\")\n",
    "    if 105<i<=141:\n",
    "        labels.write(\"culture\\n\")"
   ]
  },
  {
   "cell_type": "code",
   "execution_count": 18,
   "id": "28d04ebc",
   "metadata": {},
   "outputs": [],
   "source": [
    "import matplotlib.pyplot as plt\n",
    "with open(\"labels.txt\", encoding=\"utf8\") as f:\n",
    "  labels = f.read().split(\"\\n\")\n",
    "for i in labels:\n",
    "  if i=='':\n",
    "    labels.remove(i)\n"
   ]
  },
  {
   "cell_type": "code",
   "execution_count": 19,
   "id": "10cea0a8",
   "metadata": {},
   "outputs": [
    {
     "name": "stdout",
     "output_type": "stream",
     "text": [
      "141\n"
     ]
    }
   ],
   "source": [
    "print(len(labels))"
   ]
  },
  {
   "cell_type": "markdown",
   "id": "0fdb7208",
   "metadata": {},
   "source": [
    "# Valeurs de comptage des catégories\n",
    "Il existe cinq catégories d'articles, à savoir Sport, Politique, Culture, Economie et Société."
   ]
  },
  {
   "cell_type": "code",
   "execution_count": 11,
   "id": "668131fc",
   "metadata": {},
   "outputs": [
    {
     "data": {
      "text/plain": [
       "culture      36\n",
       "sport        29\n",
       "politique    28\n",
       "société      28\n",
       "ecomonie     20\n",
       "dtype: int64"
      ]
     },
     "execution_count": 11,
     "metadata": {},
     "output_type": "execute_result"
    }
   ],
   "source": [
    "import pandas\n",
    "df = pandas.DataFrame(labels)\n",
    "df.value_counts()"
   ]
  },
  {
   "cell_type": "markdown",
   "id": "d0fa7a4f",
   "metadata": {},
   "source": [
    "# Visualisation des données"
   ]
  },
  {
   "cell_type": "code",
   "execution_count": 12,
   "id": "d3ee66d5",
   "metadata": {},
   "outputs": [
    {
     "name": "stderr",
     "output_type": "stream",
     "text": [
      "C:\\Users\\lenovo\\anaconda3\\lib\\site-packages\\seaborn\\_decorators.py:36: FutureWarning: Pass the following variable as a keyword arg: x. From version 0.12, the only valid positional argument will be `data`, and passing other arguments without an explicit keyword will result in an error or misinterpretation.\n",
      "  warnings.warn(\n"
     ]
    },
    {
     "data": {
      "text/plain": [
       "<AxesSubplot:ylabel='count'>"
      ]
     },
     "execution_count": 12,
     "metadata": {},
     "output_type": "execute_result"
    },
    {
     "data": {
      "image/png": "[encoded data removed]",
      "text/plain": [
       "<Figure size 432x288 with 1 Axes>"
      ]
     },
     "metadata": {
      "needs_background": "light"
     },
     "output_type": "display_data"
    }
   ],
   "source": [
    "import seaborn as sns\n",
    "sns.countplot(labels)"
   ]
  },
  {
   "cell_type": "markdown",
   "id": "4284198c",
   "metadata": {},
   "source": [
    "# Preprocessing des données\n",
    "Avant de passer à la phase de classification, il faut nettoyer nos données ! Cette phase, appelée preprocessing en anglais, est essentielle et sur elle repose 80% de la réussite de tel ou tel algorithme.\n",
    "Le preprocessing comporte plusieurs étapes souvent complémentaires, à savoir :\n",
    "•\tNormalisation du texte\n",
    "•\tSuppression des stopwords\n",
    "•\tTokénization\n"
   ]
  },
  {
   "cell_type": "code",
   "execution_count": 6,
   "id": "7224fd66",
   "metadata": {},
   "outputs": [
    {
     "name": "stderr",
     "output_type": "stream",
     "text": [
      "[nltk_data] Downloading package stopwords to\n",
      "[nltk_data]     C:\\Users\\lenovo\\AppData\\Roaming\\nltk_data...\n",
      "[nltk_data]   Package stopwords is already up-to-date!\n"
     ]
    }
   ],
   "source": [
    "import string\n",
    "import nltk\n",
    "nltk.download('stopwords')\n",
    "from nltk.corpus import stopwords\n",
    "def netoyage(corpus_ensemble_documents):\n",
    "    for i in range(len(corpus_ensemble_documents)):\n",
    "        corpus_ensemble_documents[i]=corpus_ensemble_documents[i].lower()\n",
    "    for i in range(len(corpus_ensemble_documents)):\n",
    "        for c in string.punctuation:\n",
    "            x=corpus_ensemble_documents[i].replace(c,' ')\n",
    "            corpus_ensemble_documents[i]=x\n",
    "    stopwords_anglais=stopwords.words('french')\n",
    "    for i in range(len(corpus_ensemble_documents)):\n",
    "        L=corpus_ensemble_documents[i].split()\n",
    "        for mot in L:\n",
    "            if mot in stopwords_anglais:\n",
    "                while mot in L:\n",
    "                    L.remove(mot)\n",
    "                    \n",
    "        corpus_ensemble_documents[i]=\" \".join(L)\n",
    "   \n",
    "    return(corpus_ensemble_documents)"
   ]
  },
  {
   "cell_type": "markdown",
   "id": "ae18744b",
   "metadata": {},
   "source": [
    "Après le nettoyage du texte, notre jeu de données"
   ]
  },
  {
   "cell_type": "code",
   "execution_count": 7,
   "id": "6ef3892e",
   "metadata": {},
   "outputs": [],
   "source": [
    "data=netoyage(data)\n"
   ]
  },
  {
   "cell_type": "markdown",
   "id": "ac6c3f2a",
   "metadata": {},
   "source": [
    "# Créer et ajuster le modèle MultiLabelBinarizer\n",
    "Dans cette étape, nous construisons un vecteur, qui nous dirait si un caractère dans chaque phrase est un caractère fréquent ou non. Si un caractère dans une phrase est un caractère fréquent, nous le définissons comme 1, sinon nous le définissons comme 0.\n",
    "\n",
    "Chaque fois que nous appliquons un algorithme dans NLP, il fonctionne sur les nombres. Nous ne pouvons pas alimenter directement notre texte dans cet algorithme. Par conséquent, le modèle MultiLabelBinarizer est utilisé pour prétraiter le texte en le convertissant en un sac de caractères, ce qui permet de compter les occurrences totales des caractères les plus fréquemment utilisés."
   ]
  },
  {
   "cell_type": "code",
   "execution_count": 13,
   "id": "6a77b280",
   "metadata": {},
   "outputs": [
    {
     "data": {
      "text/plain": [
       "MultiLabelBinarizer()"
      ]
     },
     "execution_count": 13,
     "metadata": {},
     "output_type": "execute_result"
    }
   ],
   "source": [
    "articles_tokens = [article.split() for article in data]\n",
    "from sklearn.preprocessing import MultiLabelBinarizer\n",
    "MLB = MultiLabelBinarizer()\n",
    "MLB.fit(articles_tokens)\n"
   ]
  },
  {
   "cell_type": "code",
   "execution_count": 79,
   "id": "9e1cd47b",
   "metadata": {},
   "outputs": [],
   "source": [
    "from sklearn.linear_model import LogisticRegression\n",
    "from sklearn.svm import SVC, LinearSVC\n",
    "from sklearn.tree import DecisionTreeClassifier\n",
    "from sklearn.ensemble import RandomForestClassifier\n",
    "from sklearn.neighbors import KNeighborsClassifier\n",
    "from sklearn.naive_bayes import GaussianNB,MultinomialNB,BernoulliNB\n",
    "\n",
    "from sklearn.model_selection import train_test_split \n",
    "x_train, x_test, y_train, y_test= train_test_split(articles_tokens, labels, test_size=0.3, random_state=None)\n",
    "\n",
    "model1 = LogisticRegression()\n",
    "model2=RandomForestClassifier(n_estimators=100 ,criterion='entropy' , random_state=0)\n",
    "model3=MultinomialNB(alpha=1.0,fit_prior=True)\n",
    "model4=SVC()\n",
    "model5=LinearSVC()\n",
    "model6=DecisionTreeClassifier()\n",
    "model8=GaussianNB()"
   ]
  },
  {
   "cell_type": "markdown",
   "id": "9a9f1aea",
   "metadata": {},
   "source": [
    "# Régression logistique"
   ]
  },
  {
   "cell_type": "code",
   "execution_count": 16,
   "id": "3430a7b7",
   "metadata": {},
   "outputs": [
    {
     "name": "stdout",
     "output_type": "stream",
     "text": [
      "RESULTATS DONNES PAR LE MODELE LogisticRegression : \n",
      "accuracy sur train : 1.0 %\n",
      "accuracy sur test : 0.8837209302325582 %\n"
     ]
    }
   ],
   "source": [
    "#LogisticRegression\n",
    "print(\"RESULTATS DONNES PAR LE MODELE LogisticRegression : \")\n",
    "model1.fit(MLB.transform(x_train),y_train)\n",
    "a=model1.score(MLB.transform(x_train),y_train)\n",
    "print(\"accuracy sur train :\",a,\"%\")\n",
    "a2=model1.score(MLB.transform(x_test),y_test)\n",
    "print(\"accuracy sur test :\",a2,\"%\")\n"
   ]
  },
  {
   "cell_type": "markdown",
   "id": "4040d83e",
   "metadata": {},
   "source": [
    "# Forêt aléatoire\n"
   ]
  },
  {
   "cell_type": "code",
   "execution_count": 18,
   "id": "733adccd",
   "metadata": {},
   "outputs": [
    {
     "name": "stdout",
     "output_type": "stream",
     "text": [
      "RESULTATS DONNES PAR LE MODELE LogisticRegression : \n",
      "accuracy sur train : 1.0 %\n",
      "accuracy sur test : 0.7674418604651163 %\n"
     ]
    }
   ],
   "source": [
    "#RandomForestClassifier\n",
    "print(\"RESULTATS DONNES PAR LE MODELE RandomForestClassifier : \")\n",
    "model2.fit(MLB.transform(x_train),y_train)\n",
    "a=model2.score(MLB.transform(x_train),y_train)\n",
    "print(\"accuracy sur train :\",a,\"%\")\n",
    "a2=model2.score(MLB.transform(x_test),y_test)\n",
    "print(\"accuracy sur test :\",a2,\"%\")\n"
   ]
  },
  {
   "cell_type": "markdown",
   "id": "ba7672e2",
   "metadata": {},
   "source": [
    "# Bayes naïfs multinomiaux"
   ]
  },
  {
   "cell_type": "code",
   "execution_count": 19,
   "id": "17d1920f",
   "metadata": {},
   "outputs": [
    {
     "name": "stdout",
     "output_type": "stream",
     "text": [
      "RESULTATS DONNES PAR LE MODELE LogisticRegression : \n",
      "accuracy sur train : 1.0 %\n",
      "accuracy sur test : 0.8837209302325582 %\n"
     ]
    }
   ],
   "source": [
    "#MultinomialNB\n",
    "print(\"RESULTATS DONNES PAR LE MODELE MultinomialNB : \")\n",
    "model3.fit(MLB.transform(x_train),y_train)\n",
    "a=model3.score(MLB.transform(x_train),y_train)\n",
    "print(\"accuracy sur train :\",a,\"%\")\n",
    "a2=model3.score(MLB.transform(x_test),y_test)\n",
    "print(\"accuracy sur test :\",a2,\"%\")\n"
   ]
  },
  {
   "cell_type": "markdown",
   "id": "44d18d9a",
   "metadata": {},
   "source": [
    "# Machine vectorielle de support SVC"
   ]
  },
  {
   "cell_type": "code",
   "execution_count": 27,
   "id": "2de6d2d4",
   "metadata": {},
   "outputs": [
    {
     "name": "stdout",
     "output_type": "stream",
     "text": [
      "RESULTATS DONNES PAR LE MODELE SVC : \n",
      "accuracy sur train : 0.9795918367346939 %\n",
      "accuracy sur test : 0.5348837209302325 %\n"
     ]
    }
   ],
   "source": [
    "#SVC\n",
    "print(\"RESULTATS DONNES PAR LE MODELE SVC : \")\n",
    "model4.fit(MLB.transform(x_train),y_train)\n",
    "a=model4.score(MLB.transform(x_train),y_train)\n",
    "print(\"accuracy sur train :\",a,\"%\")\n",
    "a2=model4.score(MLB.transform(x_test),y_test)\n",
    "print(\"accuracy sur test :\",a2,\"%\")\n"
   ]
  },
  {
   "cell_type": "markdown",
   "id": "d93946ad",
   "metadata": {},
   "source": [
    "# Lineaire SVC"
   ]
  },
  {
   "cell_type": "code",
   "execution_count": 28,
   "id": "0f26616f",
   "metadata": {},
   "outputs": [
    {
     "name": "stdout",
     "output_type": "stream",
     "text": [
      "RESULTATS DONNES PAR LE MODELE DecisionTreeClassifier : \n",
      "accuracy sur train : 1.0 %\n",
      "accuracy sur test : 0.7674418604651163 %\n"
     ]
    }
   ],
   "source": [
    "#LinearSVC\n",
    "print(\"RESULTATS DONNES PAR LE MODELE LinearSVC : \")\n",
    "model5.fit(MLB.transform(x_train),y_train)\n",
    "a=model5.score(MLB.transform(x_train),y_train)\n",
    "print(\"accuracy sur train :\",a,\"%\")\n",
    "a2=model5.score(MLB.transform(x_test),y_test)\n",
    "print(\"accuracy sur test :\",a2,\"%\")"
   ]
  },
  {
   "cell_type": "markdown",
   "id": "6bc90cd9",
   "metadata": {},
   "source": [
    "# Arbre de décision"
   ]
  },
  {
   "cell_type": "code",
   "execution_count": 74,
   "id": "f7dc8368",
   "metadata": {},
   "outputs": [
    {
     "name": "stdout",
     "output_type": "stream",
     "text": [
      "RESULTATS DONNES PAR LE MODELE DecisionTreeClassifier : \n",
      "accuracy sur train : 1.0 %\n",
      "accuracy sur test : 0.5116279069767442 %\n"
     ]
    },
    {
     "data": {
      "image/png": "[encoded data removed]",
      "text/plain": [
       "<Figure size 432x288 with 2 Axes>"
      ]
     },
     "metadata": {
      "needs_background": "light"
     },
     "output_type": "display_data"
    }
   ],
   "source": [
    "#DecisionTreeClassifier\n",
    "print(\"RESULTATS DONNES PAR LE MODELE DecisionTreeClassifier : \")\n",
    "model6.fit(MLB.transform(x_train),y_train)\n",
    "a=model6.score(MLB.transform(x_train),y_train)\n",
    "print(\"accuracy sur train :\",a,\"%\")\n",
    "a2=model6.score(MLB.transform(x_test),y_test)\n",
    "print(\"accuracy sur test :\",a2,\"%\")\n",
    "y_pre=model6.predict(MLB.transform(x_test))\n",
    "import matplotlib.pyplot as plt\n",
    "import seaborn as sns\n",
    "from sklearn.metrics import confusion_matrix\n",
    "import matplotlib.pyplot as plt\n",
    "sns.heatmap(confusion_matrix(y_test,y_pre),annot=True)\n",
    "plt.ylabel('True Classes')\n",
    "plt.xlabel('Predicted classes')\n",
    "plt.show()"
   ]
  },
  {
   "cell_type": "markdown",
   "id": "6ad8cf9a",
   "metadata": {},
   "source": [
    "# Bayes naïfs gaussiens"
   ]
  },
  {
   "cell_type": "code",
   "execution_count": 42,
   "id": "2bf5e26a",
   "metadata": {},
   "outputs": [
    {
     "name": "stdout",
     "output_type": "stream",
     "text": [
      "RESULTATS DONNES PAR LE MODELE GaussianNB : \n",
      "accuracy sur train : 1.0 %\n",
      "accuracy sur test : 0.8372093023255814 %\n"
     ]
    }
   ],
   "source": [
    "#GaussianNB\n",
    "print(\"RESULTATS DONNES PAR LE MODELE GaussianNB : \")\n",
    "model8.fit(MLB.transform(x_train),y_train)\n",
    "a=model8.score(MLB.transform(x_train),y_train)\n",
    "print(\"accuracy sur train :\",a,\"%\")\n",
    "a2=model8.score(MLB.transform(x_test),y_test)\n",
    "print(\"accuracy sur test :\",a2,\"%\")"
   ]
  },
  {
   "cell_type": "markdown",
   "id": "9a852450",
   "metadata": {},
   "source": [
    "# Meilleur modèle pour effectuer un score de précision\n",
    "Ici, après avoir formé et testé le modèle, nous constatons que le modèle Bayes naïfs multinomiaux et Régression logistique ont donné la meilleure précision de tous les modèles d’apprentissage automatique.\n",
    "\n",
    "Maintenant, ici, après l’achèvement de l’analyse du modèle, nous pouvons prédire l'article suivant qui appartient à la catégorie 'Culture'.\n"
   ]
  },
  {
   "cell_type": "code",
   "execution_count": 123,
   "id": "9f359bf3",
   "metadata": {},
   "outputs": [
    {
     "name": "stderr",
     "output_type": "stream",
     "text": [
      "C:\\Users\\lenovo\\anaconda3\\lib\\site-packages\\sklearn\\preprocessing\\_label.py:860: UserWarning: unknown class(es) [' ', 'c', 'd', 'j', 'n', 'o', 'q', 's', 't', 'u', 'x', 'z', '°', 'à', 'á', 'â', 'ç', 'è', 'é', 'ê', 'ë', 'î', 'ï', 'ñ', 'ó', 'ô', 'ö', 'ù', 'û', 'ü', 'œ', '̀', '́', '’', '“', '”'] will be ignored\n",
      "  warnings.warn('unknown class(es) {0} will be ignored'\n",
      "C:\\Users\\lenovo\\anaconda3\\lib\\site-packages\\sklearn\\linear_model\\_logistic.py:763: ConvergenceWarning: lbfgs failed to converge (status=1):\n",
      "STOP: TOTAL NO. of ITERATIONS REACHED LIMIT.\n",
      "\n",
      "Increase the number of iterations (max_iter) or scale the data as shown in:\n",
      "    https://scikit-learn.org/stable/modules/preprocessing.html\n",
      "Please also refer to the documentation for alternative solver options:\n",
      "    https://scikit-learn.org/stable/modules/linear_model.html#logistic-regression\n",
      "  n_iter_i = _check_optimize_result(\n",
      "C:\\Users\\lenovo\\anaconda3\\lib\\site-packages\\sklearn\\preprocessing\\_label.py:860: UserWarning: unknown class(es) [' ', '(', ')', ',', '-', '.', 'A', 'D', 'F', 'H', 'L', 'M', 'O', 'P', 'Q', 'R', 'S', 'U', 'c', 'd', 'j', 'n', 'o', 'q', 's', 't', 'u', 'x', 'à', 'â', 'è', 'é', 'ê', 'ô', 'ù', '’'] will be ignored\n",
      "  warnings.warn('unknown class(es) {0} will be ignored'\n",
      "C:\\Users\\lenovo\\anaconda3\\lib\\site-packages\\sklearn\\preprocessing\\_label.py:860: UserWarning: unknown class(es) [' ', 'c', 'd', 'j', 'n', 'o', 'q', 's', 't', 'u', 'x', 'z', '°', 'à', 'á', 'â', 'ç', 'è', 'é', 'ê', 'ë', 'î', 'ï', 'ñ', 'ó', 'ô', 'ö', 'ù', 'û', 'ü', 'œ', '̀', '́', '’', '“', '”'] will be ignored\n",
      "  warnings.warn('unknown class(es) {0} will be ignored'\n"
     ]
    },
    {
     "name": "stdout",
     "output_type": "stream",
     "text": [
      "['culture']\n",
      "['culture']\n"
     ]
    },
    {
     "name": "stderr",
     "output_type": "stream",
     "text": [
      "C:\\Users\\lenovo\\anaconda3\\lib\\site-packages\\sklearn\\preprocessing\\_label.py:860: UserWarning: unknown class(es) [' ', '(', ')', ',', '-', '.', 'A', 'D', 'F', 'H', 'L', 'M', 'O', 'P', 'Q', 'R', 'S', 'U', 'c', 'd', 'j', 'n', 'o', 'q', 's', 't', 'u', 'x', 'à', 'â', 'è', 'é', 'ê', 'ô', 'ù', '’'] will be ignored\n",
      "  warnings.warn('unknown class(es) {0} will be ignored'\n"
     ]
    }
   ],
   "source": [
    "classifier1 = LogisticRegression().fit(MLB.transform(x_train), y_train)\n",
    "test=[\"Pour la deuxième année, la Fondation Hiba lance sa braderie musicale, et ce le samedi 18 juin 2022 au cinéma Renaissance à Rabat.Avec l’essor du streaming, on le pensait condamné. Désormais, le disque vinyle, au cours de la dernière décennie, a fait un comeback en force, précise la fondation, qui relève que les fans de musique qu’ils soient amateurs ou collectionneurs inconditionnels, considèrent le disque vinyle une forme d’art en elle-même.Qu’il s’agisse d’audiophiles à l’oreille fine, de jeunes curieux à la recherche d’une expérience authentique ou de fans d’objets musicaux physiques, les ventes du vinyle ont explosé et cela grâce à leur qualité d’écoute, leur côté insolite et nostalgique, la découverte musicale ou encore la beauté des pochettes rétro qui deviennent de véritables objets de collection, est-il encore souligné.Souk l’Oustouwanat offre aujourd’hui l’opportunité de venir à la rencontre de passionnés de musique.Après le succès de la première édition, où les différents amateurs du vintage ont exposé et vendu leurs biens, place aujourd’hui à la deuxième édition de Souk L’Oustouwnate où Fondation Hiba organise le premier marché au Maroc dédié au disque vinyle et aux biens culturels musicaux.« Souk l’Oustouwanat » (le souk à disques) a pour objectif de créer une émulation et d’encourager la rencontre des collectionneurs de disques vinyles et les audiophiles.Un appel à participation a été lancé pour repérer ces disquaires et collectionneurs à travers le Maroc.\"]\n",
    "y_pred = classifier1.predict(MLB.transform(test))\n",
    "print(y_pred)\n",
    "classifier2 = model2.fit(MLB.transform(x_train), y_train)\n",
    "y_pred2 = classifier1.predict(MLB.transform(test))\n",
    "print(y_pred2)\n",
    "\n",
    "\n"
   ]
  },
  {
   "cell_type": "markdown",
   "id": "29748ff2",
   "metadata": {},
   "source": [
    "# Conclusion\n",
    "Enfin, après avoir nettoyé les données et prétraité les données (nettoyage des données, modèle train_test_split, création d’une liste de caractères NLP modèle et modèle d’apprentissage automatique), nous avons obtenu les scores de précision et nous pouvons dire que la classification  Bayes naïfs multinomiaux et Régression logistique donne la meilleure précision parmi tous les modèles d’apprentissage automatique.\n",
    "\n",
    "Et enfin, nous prédisons également la catégorie d'un parmi les articles de presse.\n"
   ]
  }
 ],
 "metadata": {
  "kernelspec": {
   "display_name": "Python 3 (ipykernel)",
   "language": "python",
   "name": "python3"
  },
  "language_info": {
   "codemirror_mode": {
    "name": "ipython",
    "version": 3
   },
   "file_extension": ".py",
   "mimetype": "text/x-python",
   "name": "python",
   "nbconvert_exporter": "python",
   "pygments_lexer": "ipython3",
   "version": "3.9.7"
  }
 },
 "nbformat": 4,
 "nbformat_minor": 5
}
